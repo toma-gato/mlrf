{
 "cells": [
  {
   "attachments": {},
   "cell_type": "markdown",
   "metadata": {},
   "source": [
    "EPITA MLRF practice_06-00_intro v2024-07-03_170016 by Nicolas BOUTRY and Joseph CHAZALON\n",
    "\n",
    "<div style=\"overflow: auto; padding: 10px; margin: 10px 0px\">\n",
    "<img alt=\"Creative Commons License\" src='img/CC-BY-4.0.png' style='float: left; margin-right: 20px'>\n",
    "    \n",
    "This work is licensed under a [Creative Commons Attribution 4.0 International License](http://creativecommons.org/licenses/by/4.0/).\n",
    "</div>"
   ]
  },
  {
   "cell_type": "markdown",
   "metadata": {},
   "source": [
    "# Practice session 06: Introduction\n",
    "\n",
    "This session shows how to implement a simple brain tumor detection system using pixel classification.\n",
    "\n",
    "## Goals\n",
    "- Build a pixel classifier.\n",
    "- Train and evaluate several classifiers (non-linear in particular).\n",
    "- Understand the need for training data filtering.\n",
    "- Learn how to use local pooling to improve results.\n",
    "- Learn how to perform simple post-processing to improve results.\n",
    "- Process some test data and deliver your results.\n",
    "\n",
    "\n",
    "## Agenda\n",
    "This session contains a single big part: [Image segmentation](practice_06-01_mri_seg.ipynb).\n",
    "\n",
    "\n",
    "## Warning: you are being graded!\n",
    "This session is graded. You will need to upload the results you produce on [Moodle](https://moodle.cri.epita.fr/).\n",
    "\n",
    "\n",
    "## Copyright note\n",
    "This dataset is copyrighted by the School of Medicine, University of Pennsylviana, USA.\n",
    "\n",
    "The original dataset distribution is available [here](https://www.med.upenn.edu/sbia/brats2018/data.html).\n",
    "\n",
    "\n",
    "## What you need to do\n",
    "Make sure you read and understand everything, and complete all the required actions.\n",
    "**Required actions** are preceded by the following sign:\n",
    "![Back to work!](img/work.png)"
   ]
  },
  {
   "cell_type": "markdown",
   "metadata": {},
   "source": [
    "# Let's get started!\n",
    "Now you're ready to move on to the next stage: [Image segmentation](practice_06-01_mri_seg.ipynb)."
   ]
  },
  {
   "cell_type": "code",
   "execution_count": null,
   "metadata": {},
   "outputs": [],
   "source": []
  }
 ],
 "metadata": {
  "hide_input": false,
  "kernelspec": {
   "display_name": "Python 3 (ipykernel)",
   "language": "python",
   "name": "python3"
  },
  "language_info": {
   "codemirror_mode": {
    "name": "ipython",
    "version": 3
   },
   "file_extension": ".py",
   "mimetype": "text/x-python",
   "name": "python",
   "nbconvert_exporter": "python",
   "pygments_lexer": "ipython3",
   "version": "3.13.5"
  },
  "varInspector": {
   "cols": {
    "lenName": 16,
    "lenType": 16,
    "lenVar": 40
   },
   "kernels_config": {
    "python": {
     "delete_cmd_postfix": "",
     "delete_cmd_prefix": "del ",
     "library": "var_list.py",
     "varRefreshCmd": "print(var_dic_list())"
    },
    "r": {
     "delete_cmd_postfix": ") ",
     "delete_cmd_prefix": "rm(",
     "library": "var_list.r",
     "varRefreshCmd": "cat(var_dic_list()) "
    }
   },
   "types_to_exclude": [
    "module",
    "function",
    "builtin_function_or_method",
    "instance",
    "_Feature"
   ],
   "window_display": false
  }
 },
 "nbformat": 4,
 "nbformat_minor": 4
}
